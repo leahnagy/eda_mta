{
 "cells": [
  {
   "cell_type": "markdown",
   "id": "323b2362",
   "metadata": {},
   "source": [
    "# Exploratory Data Analysis Project\n",
    "## Marketing Campaign Predictions Using the MTA Turnstiles Dataset\n",
    "By: Leah Nagy"
   ]
  },
  {
   "cell_type": "markdown",
   "id": "24e1b0a8",
   "metadata": {},
   "source": [
    "## Abstract\n",
    "Namaste Home, a yoga & meditation streaming app, is launching a new app just for college students – Namaste Campus. They would like to display an in-person demonstration of the app in busy New York City MTA subway stations near college campuses during the first week of September. The goal of this project was to find the best days/times and stations to host the demonstrations. After finding stations close to major colleges and universities, I analyzed the data to determine the best options for the campaign team and displayed those results in the PDF slide presentation."
   ]
  },
  {
   "cell_type": "markdown",
   "id": "67be42ea",
   "metadata": {},
   "source": [
    "## Design\n",
    "This project is a part of the Metis Data Science Bootcamp. It utilizes the MTA Turnstile Dataset found on the MTA website which records the number of entries and exits for each turnstile in every station across New York City. Understanding the amount of traffic in each station at different times will help Namaste Campus's marketing team determine the ideal day, time and location for the campaign to reach the most college students."
   ]
  },
  {
   "cell_type": "markdown",
   "id": "c38f2613",
   "metadata": {},
   "source": [
    "## Data\n",
    "The dataset included the target week, the first week of September, over several years to reveal any trends. I chose to ignore the data from 2020 since many colleges moved to distance learning during the pandemic. I used the data from 2018, 2019, and 2021 and included only the data from the ten stations near a college or university.  I further narrowed the data to include only the afternoon and evening entries, as this is the most common time for students to leave campus and they will not be rushing to get to their first class.  "
   ]
  },
  {
   "cell_type": "markdown",
   "id": "16669eac",
   "metadata": {},
   "source": [
    "## Algorithms\n",
    "\n",
    "1.\tResearch college and MTA station locations\n",
    "2.\tClean and prepare the data for analysis\n",
    "3.\tFind the top three stations with the most afternoon/evening entries\n",
    "4.\tDetermine the best days of the week looking at previous years\n"
   ]
  },
  {
   "cell_type": "markdown",
   "id": "42768f3e",
   "metadata": {},
   "source": [
    "## Tools\n",
    "* SQLite to import data and create a database\n",
    "* NumPy and Pandas for data manipulation\n",
    "* Matplotlib for plotting\n",
    "* Tableau for mapping"
   ]
  },
  {
   "cell_type": "markdown",
   "id": "f4463bdd",
   "metadata": {},
   "source": [
    "## Communication"
   ]
  },
  {
   "cell_type": "code",
   "execution_count": null,
   "id": "4dfb8bf9",
   "metadata": {},
   "outputs": [],
   "source": []
  }
 ],
 "metadata": {
  "kernelspec": {
   "display_name": "Python 3 (ipykernel)",
   "language": "python",
   "name": "python3"
  },
  "language_info": {
   "codemirror_mode": {
    "name": "ipython",
    "version": 3
   },
   "file_extension": ".py",
   "mimetype": "text/x-python",
   "name": "python",
   "nbconvert_exporter": "python",
   "pygments_lexer": "ipython3",
   "version": "3.8.8"
  }
 },
 "nbformat": 4,
 "nbformat_minor": 5
}
